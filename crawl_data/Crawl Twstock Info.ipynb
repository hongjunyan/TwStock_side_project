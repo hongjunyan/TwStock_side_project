{
 "cells": [
  {
   "cell_type": "markdown",
   "metadata": {
    "ExecuteTime": {
     "end_time": "2020-08-20T10:15:33.689503Z",
     "start_time": "2020-08-20T10:15:33.685617Z"
    }
   },
   "source": [
    "# Notice (請注意，TWSE 有 request limit, 每 5 秒鐘 3 個 request，超過的話會被 ban 掉，請自行注意)"
   ]
  },
  {
   "cell_type": "code",
   "execution_count": null,
   "metadata": {
    "ExecuteTime": {
     "end_time": "2020-08-21T01:38:15.061483Z",
     "start_time": "2020-08-21T01:38:09.663302Z"
    }
   },
   "outputs": [],
   "source": [
    "import twstock\n",
    "twstock.__update_codes()"
   ]
  },
  {
   "cell_type": "code",
   "execution_count": null,
   "metadata": {
    "ExecuteTime": {
     "end_time": "2020-08-21T01:35:26.897802Z",
     "start_time": "2020-08-21T01:35:26.625142Z"
    }
   },
   "outputs": [],
   "source": [
    "import random\n",
    "import time\n",
    "import datetime\n",
    "import pandas as pd\n",
    "import glob\n",
    "# for data process\n",
    "from tqdm import notebook"
   ]
  },
  {
   "cell_type": "markdown",
   "metadata": {},
   "source": [
    "# Get all TW stock ID"
   ]
  },
  {
   "cell_type": "code",
   "execution_count": null,
   "metadata": {
    "ExecuteTime": {
     "end_time": "2020-08-21T01:35:26.928887Z",
     "start_time": "2020-08-21T01:35:26.898976Z"
    }
   },
   "outputs": [],
   "source": [
    "import pickle\n",
    "with open(\"./stockinfo_dict.p\", \"rb\") as f:\n",
    "    stock_dict = pickle.load(f)\n",
    "    \n",
    "TW_stock_list = []\n",
    "for stock_id in stock_dict.keys():\n",
    "    if \".TW\" in stock_id:\n",
    "        TW_stock_list.append(stock_id)"
   ]
  },
  {
   "cell_type": "markdown",
   "metadata": {
    "ExecuteTime": {
     "end_time": "2020-08-20T12:39:45.071905Z",
     "start_time": "2020-08-20T12:39:45.068608Z"
    }
   },
   "source": [
    "# Create Collection Date"
   ]
  },
  {
   "cell_type": "code",
   "execution_count": null,
   "metadata": {
    "ExecuteTime": {
     "end_time": "2020-08-21T01:35:26.966913Z",
     "start_time": "2020-08-21T01:35:26.931131Z"
    }
   },
   "outputs": [],
   "source": [
    "date_list = []\n",
    "start_year = 2015\n",
    "for year in range(start_year, 2021):\n",
    "    for month in range(1, 13):\n",
    "        date_list.append((year, month))\n",
    "date_list = date_list[:datetime.date.today().month-12-1]"
   ]
  },
  {
   "cell_type": "markdown",
   "metadata": {},
   "source": [
    "# Start Crawl TWStock info"
   ]
  },
  {
   "cell_type": "code",
   "execution_count": null,
   "metadata": {
    "ExecuteTime": {
     "start_time": "2020-08-21T01:35:23.516Z"
    }
   },
   "outputs": [],
   "source": [
    "skip_stock_id = []\n",
    "for stock_id in TW_stock_list:\n",
    "    # remove .TW\n",
    "    stock_id = stock_id.split(\".\")[0]\n",
    "    \n",
    "    # Check whether the stock has been processed\n",
    "    processed = False\n",
    "    for file_name in glob.glob(\"./dataset/*\"):\n",
    "        if stock_id in file_name:\n",
    "            processed = True\n",
    "            break\n",
    "    if processed:\n",
    "        continue\n",
    "    \n",
    "    # start crawl stock info\n",
    "    try:\n",
    "        # create obj\n",
    "        stock = twstock.Stock(stock_id)\n",
    "        \n",
    "        all_data_201501_202007 = []\n",
    "        for date in notebook.tqdm(date_list, total=len(data_list), desc=stock_id):\n",
    "            success_flag = False\n",
    "            while(not success_flag):\n",
    "                try:\n",
    "                    year, month = date\n",
    "                    month_data = stock.fetch(year, month)\n",
    "                    all_data_201501_202007.extend(month_data)\n",
    "                    sleep_time = random.randint(5, 20)\n",
    "                    time.sleep(sleep_time)\n",
    "                    success_flag = True\n",
    "                except:\n",
    "                    print(f\"Sleep 1 hour for reconnection, datetime:{year}-{month}, length:{len(all_data_201501_202007)}\")\n",
    "                    time.sleep(3600) # 60 mins\n",
    "                \n",
    "        df = pd.DataFrame(all_data_201501_202007)\n",
    "        df.to_pickle(f\"./dataset/{stock_id}.TW_201501-2020-07\")\n",
    "        del stock\n",
    "    except:\n",
    "        print(f\"Skip {stock_id}\")\n",
    "        skip_stock_id.append(stock_id)"
   ]
  },
  {
   "cell_type": "code",
   "execution_count": null,
   "metadata": {},
   "outputs": [],
   "source": []
  }
 ],
 "metadata": {
  "kernelspec": {
   "display_name": "Python 3",
   "language": "python",
   "name": "python3"
  },
  "language_info": {
   "codemirror_mode": {
    "name": "ipython",
    "version": 3
   },
   "file_extension": ".py",
   "mimetype": "text/x-python",
   "name": "python",
   "nbconvert_exporter": "python",
   "pygments_lexer": "ipython3",
   "version": "3.7.7"
  },
  "toc": {
   "base_numbering": 1,
   "nav_menu": {},
   "number_sections": true,
   "sideBar": true,
   "skip_h1_title": false,
   "title_cell": "Table of Contents",
   "title_sidebar": "Contents",
   "toc_cell": false,
   "toc_position": {},
   "toc_section_display": true,
   "toc_window_display": false
  }
 },
 "nbformat": 4,
 "nbformat_minor": 4
}
